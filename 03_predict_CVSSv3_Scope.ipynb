{
 "cells": [
  {
   "cell_type": "code",
   "execution_count": 1,
   "id": "d5dd4b90",
   "metadata": {},
   "outputs": [],
   "source": [
    "import matplotlib.pyplot as plt\n",
    "import numpy as np\n",
    "import pandas as pd\n",
    "import seaborn as sns\n",
    "\n",
    "from tqdm.notebook import tqdm"
   ]
  },
  {
   "cell_type": "code",
   "execution_count": 2,
   "id": "3dfd9e5d",
   "metadata": {},
   "outputs": [],
   "source": [
    "df = pd.read_parquet('data/df_v2.pqt')"
   ]
  },
  {
   "cell_type": "code",
   "execution_count": 3,
   "id": "3997140f",
   "metadata": {},
   "outputs": [
    {
     "data": {
      "text/plain": [
       "UNCHANGED    65205\n",
       "CHANGED      13059\n",
       "Name: V3_scope, dtype: int64"
      ]
     },
     "execution_count": 3,
     "metadata": {},
     "output_type": "execute_result"
    }
   ],
   "source": [
    "df['V3_scope'].value_counts()"
   ]
  },
  {
   "cell_type": "markdown",
   "id": "165eb840",
   "metadata": {},
   "source": [
    "### The outcome is binary, slightly unbalanced"
   ]
  },
  {
   "cell_type": "code",
   "execution_count": 4,
   "id": "e3c778e3",
   "metadata": {},
   "outputs": [
    {
     "data": {
      "text/plain": [
       "Index(['cve_id', 'V2_severity', 'V2_userInteractionRequired', 'V2_version',\n",
       "       'V2_vectorString', 'V2_accessVector', 'V2_accessComplexity',\n",
       "       'V2_authentication', 'V2_confidentialityImpact', 'V2_integrityImpact',\n",
       "       'V2_availabilityImpact', 'V2_acInsufInfo', 'V3_version',\n",
       "       'V3_vectorString', 'V3_attackVector', 'V3_attackComplexity',\n",
       "       'V3_privilegesRequired', 'V3_userInteraction', 'V3_scope',\n",
       "       'V3_confidentialityImpact', 'V3_integrityImpact',\n",
       "       'V3_availabilityImpact', 'V3_baseSeverity'],\n",
       "      dtype='object')"
      ]
     },
     "execution_count": 4,
     "metadata": {},
     "output_type": "execute_result"
    }
   ],
   "source": [
    "df.select_dtypes(['object']).columns"
   ]
  },
  {
   "cell_type": "markdown",
   "id": "5889a1b4",
   "metadata": {},
   "source": [
    "### This means that in order to predict, we cannot use the V3 columns, since they will not be defined for the predictions"
   ]
  },
  {
   "cell_type": "code",
   "execution_count": 5,
   "id": "4979a157",
   "metadata": {},
   "outputs": [],
   "source": [
    "# only get V2 columns, plus id and target\n",
    "# also remove V2_vectorString, since it is an aggregate of other values and has a high cardinality\n",
    "valid_cols = ['cve_id', 'V3_scope'] + [col for col in df.columns if col.startswith('V2_') and col != 'V2_vectorString']\n",
    "df = df[valid_cols]"
   ]
  },
  {
   "cell_type": "code",
   "execution_count": 6,
   "id": "a8577276",
   "metadata": {},
   "outputs": [],
   "source": [
    "string_columns = ['V2_severity', 'V2_userInteractionRequired', 'V2_version',\n",
    "       'V2_accessVector', 'V2_accessComplexity', # 'V2_vectorString', \n",
    "       'V2_authentication', 'V2_confidentialityImpact', 'V2_integrityImpact',\n",
    "       'V2_availabilityImpact', 'V2_acInsufInfo', 'V3_scope']\n",
    "\n",
    "rows_to_drop = df['V3_scope'].isna()\n",
    "# We convert strings to categorical and then numeric in case we want to use numerical methods\n",
    "cats = df.loc[:, string_columns].astype('category')\n",
    "df.loc[:, string_columns] = cats.apply(lambda col: col.cat.codes)"
   ]
  },
  {
   "cell_type": "code",
   "execution_count": 7,
   "id": "ecf0fa27",
   "metadata": {},
   "outputs": [
    {
     "name": "stdout",
     "output_type": "stream",
     "text": [
      "(151637, 18)\n",
      "(78264, 18)\n"
     ]
    }
   ],
   "source": [
    "# We only process those that are valid for training\n",
    "print(df.shape)\n",
    "df_to_predict = df[rows_to_drop]\n",
    "df = df[~rows_to_drop]\n",
    "print(df.shape)"
   ]
  },
  {
   "cell_type": "code",
   "execution_count": 8,
   "id": "2e6e4164",
   "metadata": {},
   "outputs": [
    {
     "data": {
      "text/plain": [
       "cve_id                         object\n",
       "V3_scope                         int8\n",
       "V2_severity                      int8\n",
       "V2_exploitabilityScore        float64\n",
       "V2_impactScore                float64\n",
       "V2_obtainAllPrivilege            bool\n",
       "V2_obtainUserPrivilege           bool\n",
       "V2_obtainOtherPrivilege          bool\n",
       "V2_userInteractionRequired       int8\n",
       "V2_version                       int8\n",
       "V2_accessVector                  int8\n",
       "V2_accessComplexity              int8\n",
       "V2_authentication                int8\n",
       "V2_confidentialityImpact         int8\n",
       "V2_integrityImpact               int8\n",
       "V2_availabilityImpact            int8\n",
       "V2_baseScore                  float64\n",
       "V2_acInsufInfo                   int8\n",
       "dtype: object"
      ]
     },
     "execution_count": 8,
     "metadata": {},
     "output_type": "execute_result"
    }
   ],
   "source": [
    "df.dtypes"
   ]
  },
  {
   "cell_type": "code",
   "execution_count": 9,
   "id": "222bb3e7",
   "metadata": {},
   "outputs": [],
   "source": [
    "from sklearn.ensemble import RandomForestClassifier\n",
    "from sklearn.model_selection import train_test_split\n",
    "from sklearn.metrics import confusion_matrix, balanced_accuracy_score"
   ]
  },
  {
   "cell_type": "code",
   "execution_count": 10,
   "id": "f6099ac7",
   "metadata": {},
   "outputs": [],
   "source": [
    "valid_for_training = df[~df['V3_scope'].isna()]"
   ]
  },
  {
   "cell_type": "code",
   "execution_count": 11,
   "id": "66c39c15",
   "metadata": {},
   "outputs": [],
   "source": [
    "X = valid_for_training.drop(columns=['cve_id', 'V3_scope'])\n",
    "y = valid_for_training['V3_scope']"
   ]
  },
  {
   "cell_type": "code",
   "execution_count": 12,
   "id": "0806134c",
   "metadata": {},
   "outputs": [],
   "source": [
    "X_train, X_test, y_train, y_test = train_test_split(X, y, test_size=0.3, random_state=42)"
   ]
  },
  {
   "cell_type": "code",
   "execution_count": 13,
   "id": "a9ef99f6",
   "metadata": {},
   "outputs": [
    {
     "data": {
      "text/plain": [
       "(54784, 16)"
      ]
     },
     "execution_count": 13,
     "metadata": {},
     "output_type": "execute_result"
    }
   ],
   "source": [
    "X_train.shape"
   ]
  },
  {
   "cell_type": "code",
   "execution_count": 14,
   "id": "8d3deaa1",
   "metadata": {},
   "outputs": [],
   "source": [
    "rf = RandomForestClassifier(n_estimators=200, n_jobs=-1, class_weight='balanced')"
   ]
  },
  {
   "cell_type": "code",
   "execution_count": 15,
   "id": "be979b1e",
   "metadata": {},
   "outputs": [
    {
     "data": {
      "text/plain": [
       "RandomForestClassifier(class_weight='balanced', n_estimators=200, n_jobs=-1)"
      ]
     },
     "execution_count": 15,
     "metadata": {},
     "output_type": "execute_result"
    }
   ],
   "source": [
    "rf.fit(X_train, y_train)"
   ]
  },
  {
   "cell_type": "code",
   "execution_count": 16,
   "id": "0245fc8f",
   "metadata": {},
   "outputs": [],
   "source": [
    "y_pred = rf.predict(X_test)"
   ]
  },
  {
   "cell_type": "code",
   "execution_count": 17,
   "id": "82e987e3",
   "metadata": {},
   "outputs": [
    {
     "data": {
      "text/plain": [
       "array([[ 3153,   738],\n",
       "       [  959, 18630]])"
      ]
     },
     "execution_count": 17,
     "metadata": {},
     "output_type": "execute_result"
    }
   ],
   "source": [
    "confusion_matrix(y_true=y_test, y_pred=y_pred)"
   ]
  },
  {
   "cell_type": "code",
   "execution_count": 18,
   "id": "d71bd702",
   "metadata": {},
   "outputs": [
    {
     "data": {
      "text/plain": [
       "0.8806877437745044"
      ]
     },
     "execution_count": 18,
     "metadata": {},
     "output_type": "execute_result"
    }
   ],
   "source": [
    "balanced_accuracy_score(y_true=y_test, y_pred=y_pred)"
   ]
  },
  {
   "cell_type": "code",
   "execution_count": 19,
   "id": "4072dc1c",
   "metadata": {},
   "outputs": [
    {
     "data": {
      "text/plain": [
       "0.8931126742522602"
      ]
     },
     "execution_count": 19,
     "metadata": {},
     "output_type": "execute_result"
    }
   ],
   "source": [
    "# To check overfitting\n",
    "y_pred_train = rf.predict(X_train)\n",
    "balanced_accuracy_score(y_true=y_train, y_pred=y_pred_train)"
   ]
  },
  {
   "cell_type": "markdown",
   "id": "54975faa",
   "metadata": {},
   "source": [
    "## We repeat the experiment to be certain that the sampling did not play a part"
   ]
  },
  {
   "cell_type": "code",
   "execution_count": 20,
   "id": "2645fc45",
   "metadata": {},
   "outputs": [
    {
     "data": {
      "application/vnd.jupyter.widget-view+json": {
       "model_id": "18fa7456f24f4a9dbb602178995e9df9",
       "version_major": 2,
       "version_minor": 0
      },
      "text/plain": [
       "  0%|          | 0/30 [00:00<?, ?it/s]"
      ]
     },
     "metadata": {},
     "output_type": "display_data"
    }
   ],
   "source": [
    "n_reps = 30\n",
    "\n",
    "balanced_accuracies = []\n",
    "for rep in tqdm(range(n_reps)):\n",
    "    X_train, X_test, y_train, y_test = train_test_split(X, y, test_size=0.3, random_state=42)\n",
    "    rf = RandomForestClassifier(n_estimators=200, n_jobs=-1, class_weight='balanced')\n",
    "    rf.fit(X_train, y_train)\n",
    "    y_pred = rf.predict(X_test)\n",
    "    balanced_accuracies.append(balanced_accuracy_score(y_true=y_test, y_pred=y_pred))"
   ]
  },
  {
   "cell_type": "code",
   "execution_count": 21,
   "id": "b39fe026",
   "metadata": {},
   "outputs": [
    {
     "data": {
      "text/plain": [
       "(array([2., 2., 6., 6., 9., 2., 1., 1., 0., 1.]),\n",
       " array([0.88007252, 0.88021017, 0.88034783, 0.88048549, 0.88062314,\n",
       "        0.8807608 , 0.88089846, 0.88103611, 0.88117377, 0.88131143,\n",
       "        0.88144908]),\n",
       " <BarContainer object of 10 artists>)"
      ]
     },
     "execution_count": 21,
     "metadata": {},
     "output_type": "execute_result"
    },
    {
     "data": {
      "image/png": "[encoded data removed]",
      "text/plain": [
       "<Figure size 576x396 with 1 Axes>"
      ]
     },
     "metadata": {},
     "output_type": "display_data"
    }
   ],
   "source": [
    "plt.style.use('seaborn')\n",
    "plt.hist(balanced_accuracies)"
   ]
  },
  {
   "cell_type": "code",
   "execution_count": 22,
   "id": "5665c8c6",
   "metadata": {},
   "outputs": [
    {
     "data": {
      "text/plain": [
       "(0.8806029865067846, 0.8800725180012873)"
      ]
     },
     "execution_count": 22,
     "metadata": {},
     "output_type": "execute_result"
    }
   ],
   "source": [
    "np.mean(balanced_accuracies), np.min(balanced_accuracies)"
   ]
  },
  {
   "cell_type": "markdown",
   "id": "93414340",
   "metadata": {},
   "source": [
    "# With a basic model, we get a mean balanced accuracy of 88%\n",
    "A fair assumption is that it will perform similarly for the data without labels, since it does not seem to overfit\n",
    "The feature relevances are:"
   ]
  },
  {
   "cell_type": "code",
   "execution_count": 23,
   "id": "f0fad5db",
   "metadata": {},
   "outputs": [
    {
     "data": {
      "image/png": "[encoded data removed]",
      "text/plain": [
       "<Figure size 720x1152 with 1 Axes>"
      ]
     },
     "metadata": {},
     "output_type": "display_data"
    }
   ],
   "source": [
    "plt.style.use('seaborn')\n",
    "fig = plt.figure(figsize=(10, 16))\n",
    "\n",
    "data = pd.DataFrame({'features': X_train.columns, 'relevance': rf.feature_importances_})\n",
    "data.sort_values('relevance', inplace=True, ascending=False)\n",
    "\n",
    "sns.barplot(x=\"relevance\", y=\"features\", data=data,\n",
    "            palette=sns.color_palette(\"BuGn_r\", n_colors=len(data)))\n",
    "\n",
    "plt.title('Feature relevances')\n",
    "plt.xlabel('Relevance')\n",
    "plt.tight_layout()"
   ]
  },
  {
   "cell_type": "code",
   "execution_count": 24,
   "id": "5a4bb7fd",
   "metadata": {},
   "outputs": [
    {
     "data": {
      "text/plain": [
       "V2_severity                    3\n",
       "V2_exploitabilityScore        20\n",
       "V2_impactScore                 9\n",
       "V2_obtainAllPrivilege          2\n",
       "V2_obtainUserPrivilege         2\n",
       "V2_obtainOtherPrivilege        2\n",
       "V2_userInteractionRequired     3\n",
       "V2_version                     1\n",
       "V2_accessVector                3\n",
       "V2_accessComplexity            3\n",
       "V2_authentication              3\n",
       "V2_confidentialityImpact       3\n",
       "V2_integrityImpact             3\n",
       "V2_availabilityImpact          3\n",
       "V2_baseScore                  68\n",
       "V2_acInsufInfo                 3\n",
       "dtype: int64"
      ]
     },
     "execution_count": 24,
     "metadata": {},
     "output_type": "execute_result"
    }
   ],
   "source": [
    "X.nunique()"
   ]
  },
  {
   "cell_type": "code",
   "execution_count": 25,
   "id": "4c489430",
   "metadata": {},
   "outputs": [
    {
     "data": {
      "text/html": [
       "<div>\n",
       "<style scoped>\n",
       "    .dataframe tbody tr th:only-of-type {\n",
       "        vertical-align: middle;\n",
       "    }\n",
       "\n",
       "    .dataframe tbody tr th {\n",
       "        vertical-align: top;\n",
       "    }\n",
       "\n",
       "    .dataframe thead th {\n",
       "        text-align: right;\n",
       "    }\n",
       "</style>\n",
       "<table border=\"1\" class=\"dataframe\">\n",
       "  <thead>\n",
       "    <tr style=\"text-align: right;\">\n",
       "      <th></th>\n",
       "      <th>V2_severity</th>\n",
       "      <th>V2_exploitabilityScore</th>\n",
       "      <th>V2_impactScore</th>\n",
       "      <th>V2_userInteractionRequired</th>\n",
       "      <th>V2_version</th>\n",
       "      <th>V2_accessVector</th>\n",
       "      <th>V2_accessComplexity</th>\n",
       "      <th>V2_authentication</th>\n",
       "      <th>V2_confidentialityImpact</th>\n",
       "      <th>V2_integrityImpact</th>\n",
       "      <th>V2_availabilityImpact</th>\n",
       "      <th>V2_baseScore</th>\n",
       "      <th>V2_acInsufInfo</th>\n",
       "    </tr>\n",
       "  </thead>\n",
       "  <tbody>\n",
       "    <tr>\n",
       "      <th>count</th>\n",
       "      <td>78264.000000</td>\n",
       "      <td>78264.000000</td>\n",
       "      <td>78264.000000</td>\n",
       "      <td>78264.000000</td>\n",
       "      <td>78264.0</td>\n",
       "      <td>78264.000000</td>\n",
       "      <td>78264.000000</td>\n",
       "      <td>78264.000000</td>\n",
       "      <td>78264.000000</td>\n",
       "      <td>78264.000000</td>\n",
       "      <td>78264.000000</td>\n",
       "      <td>78264.000000</td>\n",
       "      <td>78264.000000</td>\n",
       "    </tr>\n",
       "    <tr>\n",
       "      <th>mean</th>\n",
       "      <td>1.344168</td>\n",
       "      <td>7.958267</td>\n",
       "      <td>5.312388</td>\n",
       "      <td>0.342073</td>\n",
       "      <td>0.0</td>\n",
       "      <td>1.799934</td>\n",
       "      <td>1.384979</td>\n",
       "      <td>1.191506</td>\n",
       "      <td>1.332848</td>\n",
       "      <td>1.347491</td>\n",
       "      <td>1.208640</td>\n",
       "      <td>5.730632</td>\n",
       "      <td>-0.305466</td>\n",
       "    </tr>\n",
       "    <tr>\n",
       "      <th>std</th>\n",
       "      <td>0.873329</td>\n",
       "      <td>2.115653</td>\n",
       "      <td>2.588732</td>\n",
       "      <td>0.497775</td>\n",
       "      <td>0.0</td>\n",
       "      <td>0.451320</td>\n",
       "      <td>0.527469</td>\n",
       "      <td>0.393943</td>\n",
       "      <td>0.745629</td>\n",
       "      <td>0.743109</td>\n",
       "      <td>0.747604</td>\n",
       "      <td>1.943068</td>\n",
       "      <td>0.560558</td>\n",
       "    </tr>\n",
       "    <tr>\n",
       "      <th>min</th>\n",
       "      <td>0.000000</td>\n",
       "      <td>1.200000</td>\n",
       "      <td>2.900000</td>\n",
       "      <td>-1.000000</td>\n",
       "      <td>0.0</td>\n",
       "      <td>0.000000</td>\n",
       "      <td>0.000000</td>\n",
       "      <td>0.000000</td>\n",
       "      <td>0.000000</td>\n",
       "      <td>0.000000</td>\n",
       "      <td>0.000000</td>\n",
       "      <td>1.000000</td>\n",
       "      <td>-1.000000</td>\n",
       "    </tr>\n",
       "    <tr>\n",
       "      <th>25%</th>\n",
       "      <td>0.000000</td>\n",
       "      <td>6.800000</td>\n",
       "      <td>2.900000</td>\n",
       "      <td>0.000000</td>\n",
       "      <td>0.0</td>\n",
       "      <td>2.000000</td>\n",
       "      <td>1.000000</td>\n",
       "      <td>1.000000</td>\n",
       "      <td>1.000000</td>\n",
       "      <td>1.000000</td>\n",
       "      <td>1.000000</td>\n",
       "      <td>4.300000</td>\n",
       "      <td>-1.000000</td>\n",
       "    </tr>\n",
       "    <tr>\n",
       "      <th>50%</th>\n",
       "      <td>2.000000</td>\n",
       "      <td>8.600000</td>\n",
       "      <td>4.900000</td>\n",
       "      <td>0.000000</td>\n",
       "      <td>0.0</td>\n",
       "      <td>2.000000</td>\n",
       "      <td>1.000000</td>\n",
       "      <td>1.000000</td>\n",
       "      <td>1.000000</td>\n",
       "      <td>2.000000</td>\n",
       "      <td>1.000000</td>\n",
       "      <td>5.000000</td>\n",
       "      <td>0.000000</td>\n",
       "    </tr>\n",
       "    <tr>\n",
       "      <th>75%</th>\n",
       "      <td>2.000000</td>\n",
       "      <td>10.000000</td>\n",
       "      <td>6.400000</td>\n",
       "      <td>1.000000</td>\n",
       "      <td>0.0</td>\n",
       "      <td>2.000000</td>\n",
       "      <td>2.000000</td>\n",
       "      <td>1.000000</td>\n",
       "      <td>2.000000</td>\n",
       "      <td>2.000000</td>\n",
       "      <td>2.000000</td>\n",
       "      <td>7.200000</td>\n",
       "      <td>0.000000</td>\n",
       "    </tr>\n",
       "    <tr>\n",
       "      <th>max</th>\n",
       "      <td>2.000000</td>\n",
       "      <td>10.000000</td>\n",
       "      <td>10.000000</td>\n",
       "      <td>1.000000</td>\n",
       "      <td>0.0</td>\n",
       "      <td>2.000000</td>\n",
       "      <td>2.000000</td>\n",
       "      <td>2.000000</td>\n",
       "      <td>2.000000</td>\n",
       "      <td>2.000000</td>\n",
       "      <td>2.000000</td>\n",
       "      <td>10.000000</td>\n",
       "      <td>1.000000</td>\n",
       "    </tr>\n",
       "  </tbody>\n",
       "</table>\n",
       "</div>"
      ],
      "text/plain": [
       "        V2_severity  V2_exploitabilityScore  V2_impactScore  \\\n",
       "count  78264.000000            78264.000000    78264.000000   \n",
       "mean       1.344168                7.958267        5.312388   \n",
       "std        0.873329                2.115653        2.588732   \n",
       "min        0.000000                1.200000        2.900000   \n",
       "25%        0.000000                6.800000        2.900000   \n",
       "50%        2.000000                8.600000        4.900000   \n",
       "75%        2.000000               10.000000        6.400000   \n",
       "max        2.000000               10.000000       10.000000   \n",
       "\n",
       "       V2_userInteractionRequired  V2_version  V2_accessVector  \\\n",
       "count                78264.000000     78264.0     78264.000000   \n",
       "mean                     0.342073         0.0         1.799934   \n",
       "std                      0.497775         0.0         0.451320   \n",
       "min                     -1.000000         0.0         0.000000   \n",
       "25%                      0.000000         0.0         2.000000   \n",
       "50%                      0.000000         0.0         2.000000   \n",
       "75%                      1.000000         0.0         2.000000   \n",
       "max                      1.000000         0.0         2.000000   \n",
       "\n",
       "       V2_accessComplexity  V2_authentication  V2_confidentialityImpact  \\\n",
       "count         78264.000000       78264.000000              78264.000000   \n",
       "mean              1.384979           1.191506                  1.332848   \n",
       "std               0.527469           0.393943                  0.745629   \n",
       "min               0.000000           0.000000                  0.000000   \n",
       "25%               1.000000           1.000000                  1.000000   \n",
       "50%               1.000000           1.000000                  1.000000   \n",
       "75%               2.000000           1.000000                  2.000000   \n",
       "max               2.000000           2.000000                  2.000000   \n",
       "\n",
       "       V2_integrityImpact  V2_availabilityImpact  V2_baseScore  V2_acInsufInfo  \n",
       "count        78264.000000           78264.000000  78264.000000    78264.000000  \n",
       "mean             1.347491               1.208640      5.730632       -0.305466  \n",
       "std              0.743109               0.747604      1.943068        0.560558  \n",
       "min              0.000000               0.000000      1.000000       -1.000000  \n",
       "25%              1.000000               1.000000      4.300000       -1.000000  \n",
       "50%              2.000000               1.000000      5.000000        0.000000  \n",
       "75%              2.000000               2.000000      7.200000        0.000000  \n",
       "max              2.000000               2.000000     10.000000        1.000000  "
      ]
     },
     "execution_count": 25,
     "metadata": {},
     "output_type": "execute_result"
    }
   ],
   "source": [
    "X.describe()"
   ]
  },
  {
   "cell_type": "code",
   "execution_count": 26,
   "id": "07494178",
   "metadata": {},
   "outputs": [],
   "source": [
    "# The predictions for the missing data are:\n",
    "X_to_predict = df_to_predict.drop(columns=['cve_id', 'V3_scope'])\n",
    "y_expected = rf.predict(X_to_predict)"
   ]
  },
  {
   "cell_type": "code",
   "execution_count": 27,
   "id": "5714307e",
   "metadata": {},
   "outputs": [],
   "source": [
    "# Store the results, converting them to the original categories\n",
    "results = df_to_predict[['cve_id']].copy()\n",
    "\n",
    "results['V3_scope'] = cats['V3_scope'].cat.categories[y_expected]\n",
    "\n",
    "# We upload it as a csv to be able to display the results easily with other applications\n",
    "results.to_csv('results/scope_results_rf.csv', index=False)"
   ]
  },
  {
   "cell_type": "code",
   "execution_count": null,
   "id": "397aaf22",
   "metadata": {},
   "outputs": [],
   "source": []
  }
 ],
 "metadata": {
  "kernelspec": {
   "display_name": "Python 3",
   "language": "python",
   "name": "python3"
  },
  "language_info": {
   "codemirror_mode": {
    "name": "ipython",
    "version": 3
   },
   "file_extension": ".py",
   "mimetype": "text/x-python",
   "name": "python",
   "nbconvert_exporter": "python",
   "pygments_lexer": "ipython3",
   "version": "3.6.9"
  }
 },
 "nbformat": 4,
 "nbformat_minor": 5
}
