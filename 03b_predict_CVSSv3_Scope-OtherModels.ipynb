{
 "cells": [
  {
   "cell_type": "code",
   "execution_count": 1,
   "id": "eda93064",
   "metadata": {},
   "outputs": [],
   "source": [
    "import matplotlib.pyplot as plt\n",
    "import numpy as np\n",
    "import pandas as pd\n",
    "import seaborn as sns\n",
    "\n",
    "from tqdm.notebook import tqdm"
   ]
  },
  {
   "cell_type": "code",
   "execution_count": 2,
   "id": "367db3fc",
   "metadata": {},
   "outputs": [],
   "source": [
    "df = pd.read_parquet('data/df_v2.pqt')"
   ]
  },
  {
   "cell_type": "code",
   "execution_count": 3,
   "id": "29cf2e25",
   "metadata": {},
   "outputs": [
    {
     "data": {
      "text/plain": [
       "UNCHANGED    65205\n",
       "CHANGED      13059\n",
       "Name: V3_scope, dtype: int64"
      ]
     },
     "execution_count": 3,
     "metadata": {},
     "output_type": "execute_result"
    }
   ],
   "source": [
    "df['V3_scope'].value_counts()"
   ]
  },
  {
   "cell_type": "code",
   "execution_count": 4,
   "id": "fa25662f",
   "metadata": {},
   "outputs": [],
   "source": [
    "outcome = 'V3_scope'\n",
    "\n",
    "df_to_predict = df[df[outcome].isna()]\n",
    "df = df[~df[outcome].isna()]\n",
    "# only get V2 columns, plus id and target\n",
    "# also remove V2_vectorString, since it is an aggregate of other values and has a high cardinality\n",
    "valid_cols = ['cve_id', outcome] + [col for col in df.columns if col.startswith('V2_') and col not in ['V2_vectorString', 'V2_version']]\n",
    "df = df[valid_cols]\n",
    "\n",
    "# Process string variables\n",
    "string_columns = ['V2_severity', 'V2_userInteractionRequired',  # 'V2_version', not defined\n",
    "       'V2_accessVector', 'V2_accessComplexity', # 'V2_vectorString', \n",
    "       'V2_authentication', 'V2_confidentialityImpact', 'V2_integrityImpact',\n",
    "       'V2_availabilityImpact', 'V2_acInsufInfo'] + [outcome]\n",
    "\n",
    "# We convert strings to categorical and then numeric in case we want to use numerical methods\n",
    "cats = df.loc[:, string_columns].astype('category')\n",
    "df.loc[:, string_columns] = cats.apply(lambda col: col.cat.codes)"
   ]
  },
  {
   "cell_type": "markdown",
   "id": "1bc381ed",
   "metadata": {},
   "source": [
    "### Preprocess data (normalize)"
   ]
  },
  {
   "cell_type": "code",
   "execution_count": 5,
   "id": "c5669bcf",
   "metadata": {},
   "outputs": [],
   "source": [
    "input_variables = [col for col in df.columns if col not in ['cve_id', outcome]]\n",
    "X = df.loc[:, input_variables].copy()\n",
    "X = X / X.max()\n",
    "y = df[outcome].copy()"
   ]
  },
  {
   "cell_type": "code",
   "execution_count": 6,
   "id": "98388951",
   "metadata": {},
   "outputs": [
    {
     "data": {
      "text/html": [
       "<div>\n",
       "<style scoped>\n",
       "    .dataframe tbody tr th:only-of-type {\n",
       "        vertical-align: middle;\n",
       "    }\n",
       "\n",
       "    .dataframe tbody tr th {\n",
       "        vertical-align: top;\n",
       "    }\n",
       "\n",
       "    .dataframe thead th {\n",
       "        text-align: right;\n",
       "    }\n",
       "</style>\n",
       "<table border=\"1\" class=\"dataframe\">\n",
       "  <thead>\n",
       "    <tr style=\"text-align: right;\">\n",
       "      <th></th>\n",
       "      <th>V2_severity</th>\n",
       "      <th>V2_exploitabilityScore</th>\n",
       "      <th>V2_impactScore</th>\n",
       "      <th>V2_obtainAllPrivilege</th>\n",
       "      <th>V2_obtainUserPrivilege</th>\n",
       "      <th>V2_obtainOtherPrivilege</th>\n",
       "      <th>V2_userInteractionRequired</th>\n",
       "      <th>V2_accessVector</th>\n",
       "      <th>V2_accessComplexity</th>\n",
       "      <th>V2_authentication</th>\n",
       "      <th>V2_confidentialityImpact</th>\n",
       "      <th>V2_integrityImpact</th>\n",
       "      <th>V2_availabilityImpact</th>\n",
       "      <th>V2_baseScore</th>\n",
       "      <th>V2_acInsufInfo</th>\n",
       "    </tr>\n",
       "  </thead>\n",
       "  <tbody>\n",
       "    <tr>\n",
       "      <th>count</th>\n",
       "      <td>78264.000000</td>\n",
       "      <td>78264.000000</td>\n",
       "      <td>78264.000000</td>\n",
       "      <td>78264.000000</td>\n",
       "      <td>78264.000000</td>\n",
       "      <td>78264.000000</td>\n",
       "      <td>78264.000000</td>\n",
       "      <td>78264.000000</td>\n",
       "      <td>78264.000000</td>\n",
       "      <td>78264.000000</td>\n",
       "      <td>78264.000000</td>\n",
       "      <td>78264.000000</td>\n",
       "      <td>78264.000000</td>\n",
       "      <td>78264.000000</td>\n",
       "      <td>78264.000000</td>\n",
       "    </tr>\n",
       "    <tr>\n",
       "      <th>mean</th>\n",
       "      <td>0.672084</td>\n",
       "      <td>0.795827</td>\n",
       "      <td>0.531239</td>\n",
       "      <td>0.001865</td>\n",
       "      <td>0.000115</td>\n",
       "      <td>0.000128</td>\n",
       "      <td>0.342073</td>\n",
       "      <td>0.899967</td>\n",
       "      <td>0.692490</td>\n",
       "      <td>0.595753</td>\n",
       "      <td>0.666424</td>\n",
       "      <td>0.673745</td>\n",
       "      <td>0.604320</td>\n",
       "      <td>0.573063</td>\n",
       "      <td>-0.305466</td>\n",
       "    </tr>\n",
       "    <tr>\n",
       "      <th>std</th>\n",
       "      <td>0.436665</td>\n",
       "      <td>0.211565</td>\n",
       "      <td>0.258873</td>\n",
       "      <td>0.043151</td>\n",
       "      <td>0.010723</td>\n",
       "      <td>0.011303</td>\n",
       "      <td>0.497775</td>\n",
       "      <td>0.225660</td>\n",
       "      <td>0.263734</td>\n",
       "      <td>0.196971</td>\n",
       "      <td>0.372815</td>\n",
       "      <td>0.371554</td>\n",
       "      <td>0.373802</td>\n",
       "      <td>0.194307</td>\n",
       "      <td>0.560558</td>\n",
       "    </tr>\n",
       "    <tr>\n",
       "      <th>min</th>\n",
       "      <td>0.000000</td>\n",
       "      <td>0.120000</td>\n",
       "      <td>0.290000</td>\n",
       "      <td>0.000000</td>\n",
       "      <td>0.000000</td>\n",
       "      <td>0.000000</td>\n",
       "      <td>-1.000000</td>\n",
       "      <td>0.000000</td>\n",
       "      <td>0.000000</td>\n",
       "      <td>0.000000</td>\n",
       "      <td>0.000000</td>\n",
       "      <td>0.000000</td>\n",
       "      <td>0.000000</td>\n",
       "      <td>0.100000</td>\n",
       "      <td>-1.000000</td>\n",
       "    </tr>\n",
       "    <tr>\n",
       "      <th>25%</th>\n",
       "      <td>0.000000</td>\n",
       "      <td>0.680000</td>\n",
       "      <td>0.290000</td>\n",
       "      <td>0.000000</td>\n",
       "      <td>0.000000</td>\n",
       "      <td>0.000000</td>\n",
       "      <td>0.000000</td>\n",
       "      <td>1.000000</td>\n",
       "      <td>0.500000</td>\n",
       "      <td>0.500000</td>\n",
       "      <td>0.500000</td>\n",
       "      <td>0.500000</td>\n",
       "      <td>0.500000</td>\n",
       "      <td>0.430000</td>\n",
       "      <td>-1.000000</td>\n",
       "    </tr>\n",
       "    <tr>\n",
       "      <th>50%</th>\n",
       "      <td>1.000000</td>\n",
       "      <td>0.860000</td>\n",
       "      <td>0.490000</td>\n",
       "      <td>0.000000</td>\n",
       "      <td>0.000000</td>\n",
       "      <td>0.000000</td>\n",
       "      <td>0.000000</td>\n",
       "      <td>1.000000</td>\n",
       "      <td>0.500000</td>\n",
       "      <td>0.500000</td>\n",
       "      <td>0.500000</td>\n",
       "      <td>1.000000</td>\n",
       "      <td>0.500000</td>\n",
       "      <td>0.500000</td>\n",
       "      <td>0.000000</td>\n",
       "    </tr>\n",
       "    <tr>\n",
       "      <th>75%</th>\n",
       "      <td>1.000000</td>\n",
       "      <td>1.000000</td>\n",
       "      <td>0.640000</td>\n",
       "      <td>0.000000</td>\n",
       "      <td>0.000000</td>\n",
       "      <td>0.000000</td>\n",
       "      <td>1.000000</td>\n",
       "      <td>1.000000</td>\n",
       "      <td>1.000000</td>\n",
       "      <td>0.500000</td>\n",
       "      <td>1.000000</td>\n",
       "      <td>1.000000</td>\n",
       "      <td>1.000000</td>\n",
       "      <td>0.720000</td>\n",
       "      <td>0.000000</td>\n",
       "    </tr>\n",
       "    <tr>\n",
       "      <th>max</th>\n",
       "      <td>1.000000</td>\n",
       "      <td>1.000000</td>\n",
       "      <td>1.000000</td>\n",
       "      <td>1.000000</td>\n",
       "      <td>1.000000</td>\n",
       "      <td>1.000000</td>\n",
       "      <td>1.000000</td>\n",
       "      <td>1.000000</td>\n",
       "      <td>1.000000</td>\n",
       "      <td>1.000000</td>\n",
       "      <td>1.000000</td>\n",
       "      <td>1.000000</td>\n",
       "      <td>1.000000</td>\n",
       "      <td>1.000000</td>\n",
       "      <td>1.000000</td>\n",
       "    </tr>\n",
       "  </tbody>\n",
       "</table>\n",
       "</div>"
      ],
      "text/plain": [
       "        V2_severity  V2_exploitabilityScore  V2_impactScore  \\\n",
       "count  78264.000000            78264.000000    78264.000000   \n",
       "mean       0.672084                0.795827        0.531239   \n",
       "std        0.436665                0.211565        0.258873   \n",
       "min        0.000000                0.120000        0.290000   \n",
       "25%        0.000000                0.680000        0.290000   \n",
       "50%        1.000000                0.860000        0.490000   \n",
       "75%        1.000000                1.000000        0.640000   \n",
       "max        1.000000                1.000000        1.000000   \n",
       "\n",
       "       V2_obtainAllPrivilege  V2_obtainUserPrivilege  V2_obtainOtherPrivilege  \\\n",
       "count           78264.000000            78264.000000             78264.000000   \n",
       "mean                0.001865                0.000115                 0.000128   \n",
       "std                 0.043151                0.010723                 0.011303   \n",
       "min                 0.000000                0.000000                 0.000000   \n",
       "25%                 0.000000                0.000000                 0.000000   \n",
       "50%                 0.000000                0.000000                 0.000000   \n",
       "75%                 0.000000                0.000000                 0.000000   \n",
       "max                 1.000000                1.000000                 1.000000   \n",
       "\n",
       "       V2_userInteractionRequired  V2_accessVector  V2_accessComplexity  \\\n",
       "count                78264.000000     78264.000000         78264.000000   \n",
       "mean                     0.342073         0.899967             0.692490   \n",
       "std                      0.497775         0.225660             0.263734   \n",
       "min                     -1.000000         0.000000             0.000000   \n",
       "25%                      0.000000         1.000000             0.500000   \n",
       "50%                      0.000000         1.000000             0.500000   \n",
       "75%                      1.000000         1.000000             1.000000   \n",
       "max                      1.000000         1.000000             1.000000   \n",
       "\n",
       "       V2_authentication  V2_confidentialityImpact  V2_integrityImpact  \\\n",
       "count       78264.000000              78264.000000        78264.000000   \n",
       "mean            0.595753                  0.666424            0.673745   \n",
       "std             0.196971                  0.372815            0.371554   \n",
       "min             0.000000                  0.000000            0.000000   \n",
       "25%             0.500000                  0.500000            0.500000   \n",
       "50%             0.500000                  0.500000            1.000000   \n",
       "75%             0.500000                  1.000000            1.000000   \n",
       "max             1.000000                  1.000000            1.000000   \n",
       "\n",
       "       V2_availabilityImpact  V2_baseScore  V2_acInsufInfo  \n",
       "count           78264.000000  78264.000000    78264.000000  \n",
       "mean                0.604320      0.573063       -0.305466  \n",
       "std                 0.373802      0.194307        0.560558  \n",
       "min                 0.000000      0.100000       -1.000000  \n",
       "25%                 0.500000      0.430000       -1.000000  \n",
       "50%                 0.500000      0.500000        0.000000  \n",
       "75%                 1.000000      0.720000        0.000000  \n",
       "max                 1.000000      1.000000        1.000000  "
      ]
     },
     "execution_count": 6,
     "metadata": {},
     "output_type": "execute_result"
    }
   ],
   "source": [
    "X.astype(float).describe()"
   ]
  },
  {
   "cell_type": "code",
   "execution_count": 7,
   "id": "1c06f276",
   "metadata": {},
   "outputs": [],
   "source": [
    "from sklearn.ensemble import RandomForestClassifier\n",
    "from sklearn.neural_network import MLPClassifier\n",
    "from sklearn.model_selection import train_test_split\n",
    "from sklearn.metrics import confusion_matrix, balanced_accuracy_score"
   ]
  },
  {
   "cell_type": "code",
   "execution_count": 8,
   "id": "c4e28e01",
   "metadata": {},
   "outputs": [],
   "source": [
    "X_train, X_test, y_train, y_test = train_test_split(X, y, test_size=0.3, random_state=42)"
   ]
  },
  {
   "cell_type": "code",
   "execution_count": 9,
   "id": "a664f5a8",
   "metadata": {},
   "outputs": [
    {
     "data": {
      "text/plain": [
       "(54784, 15)"
      ]
     },
     "execution_count": 9,
     "metadata": {},
     "output_type": "execute_result"
    }
   ],
   "source": [
    "X_train.shape"
   ]
  },
  {
   "cell_type": "code",
   "execution_count": 10,
   "id": "c53121a9",
   "metadata": {},
   "outputs": [
    {
     "data": {
      "application/vnd.jupyter.widget-view+json": {
       "model_id": "48a69210b73947348848448d16e1f5db",
       "version_major": 2,
       "version_minor": 0
      },
      "text/plain": [
       "  0%|          | 0/8 [00:00<?, ?it/s]"
      ]
     },
     "metadata": {},
     "output_type": "display_data"
    }
   ],
   "source": [
    "mlp_layers_list = [(3, ), (5, ), (8, ), (10, ), (3, 2), (3, 3), (5, 3), (5, 5)]\n",
    "n_reps = 5\n",
    "\n",
    "accs = {}\n",
    "for mlp_layers in tqdm(mlp_layers_list):\n",
    "    accs[mlp_layers] = []\n",
    "    \n",
    "    for n in range(n_reps):\n",
    "        model = MLPClassifier(mlp_layers, alpha=0.0000001)\n",
    "\n",
    "        model.fit(X_train, y_train)\n",
    "\n",
    "        y_pred = model.predict(X_test)\n",
    "\n",
    "        confusion_matrix(y_true=y_test, y_pred=y_pred)\n",
    "\n",
    "        accs[mlp_layers].append(balanced_accuracy_score(y_true=y_test, y_pred=y_pred))"
   ]
  },
  {
   "cell_type": "code",
   "execution_count": 11,
   "id": "6ae11481",
   "metadata": {},
   "outputs": [
    {
     "data": {
      "text/html": [
       "<div>\n",
       "<style scoped>\n",
       "    .dataframe tbody tr th:only-of-type {\n",
       "        vertical-align: middle;\n",
       "    }\n",
       "\n",
       "    .dataframe tbody tr th {\n",
       "        vertical-align: top;\n",
       "    }\n",
       "\n",
       "    .dataframe thead tr th {\n",
       "        text-align: left;\n",
       "    }\n",
       "</style>\n",
       "<table border=\"1\" class=\"dataframe\">\n",
       "  <thead>\n",
       "    <tr>\n",
       "      <th></th>\n",
       "      <th>3</th>\n",
       "      <th>5</th>\n",
       "      <th>8</th>\n",
       "      <th>10</th>\n",
       "      <th colspan=\"2\" halign=\"left\">3</th>\n",
       "      <th colspan=\"2\" halign=\"left\">5</th>\n",
       "    </tr>\n",
       "    <tr>\n",
       "      <th></th>\n",
       "      <th>NaN</th>\n",
       "      <th>NaN</th>\n",
       "      <th>NaN</th>\n",
       "      <th>NaN</th>\n",
       "      <th>2</th>\n",
       "      <th>3</th>\n",
       "      <th>3</th>\n",
       "      <th>5</th>\n",
       "    </tr>\n",
       "  </thead>\n",
       "  <tbody>\n",
       "    <tr>\n",
       "      <th>0</th>\n",
       "      <td>0.867822</td>\n",
       "      <td>0.868052</td>\n",
       "      <td>0.869877</td>\n",
       "      <td>0.866919</td>\n",
       "      <td>0.867051</td>\n",
       "      <td>0.868464</td>\n",
       "      <td>0.868669</td>\n",
       "      <td>0.868257</td>\n",
       "    </tr>\n",
       "    <tr>\n",
       "      <th>1</th>\n",
       "      <td>0.869185</td>\n",
       "      <td>0.869211</td>\n",
       "      <td>0.869312</td>\n",
       "      <td>0.868541</td>\n",
       "      <td>0.500000</td>\n",
       "      <td>0.868904</td>\n",
       "      <td>0.870062</td>\n",
       "      <td>0.867229</td>\n",
       "    </tr>\n",
       "    <tr>\n",
       "      <th>2</th>\n",
       "      <td>0.828913</td>\n",
       "      <td>0.868438</td>\n",
       "      <td>0.871889</td>\n",
       "      <td>0.868412</td>\n",
       "      <td>0.500000</td>\n",
       "      <td>0.868081</td>\n",
       "      <td>0.868182</td>\n",
       "      <td>0.868574</td>\n",
       "    </tr>\n",
       "    <tr>\n",
       "      <th>3</th>\n",
       "      <td>0.828326</td>\n",
       "      <td>0.828036</td>\n",
       "      <td>0.868696</td>\n",
       "      <td>0.868359</td>\n",
       "      <td>0.868267</td>\n",
       "      <td>0.868875</td>\n",
       "      <td>0.869699</td>\n",
       "      <td>0.868902</td>\n",
       "    </tr>\n",
       "    <tr>\n",
       "      <th>4</th>\n",
       "      <td>0.828091</td>\n",
       "      <td>0.867230</td>\n",
       "      <td>0.867901</td>\n",
       "      <td>0.868801</td>\n",
       "      <td>0.500000</td>\n",
       "      <td>0.828966</td>\n",
       "      <td>0.870034</td>\n",
       "      <td>0.868052</td>\n",
       "    </tr>\n",
       "  </tbody>\n",
       "</table>\n",
       "</div>"
      ],
      "text/plain": [
       "         3         5         8         10        3                   5   \\\n",
       "        NaN       NaN       NaN       NaN         2         3         3   \n",
       "0  0.867822  0.868052  0.869877  0.866919  0.867051  0.868464  0.868669   \n",
       "1  0.869185  0.869211  0.869312  0.868541  0.500000  0.868904  0.870062   \n",
       "2  0.828913  0.868438  0.871889  0.868412  0.500000  0.868081  0.868182   \n",
       "3  0.828326  0.828036  0.868696  0.868359  0.868267  0.868875  0.869699   \n",
       "4  0.828091  0.867230  0.867901  0.868801  0.500000  0.828966  0.870034   \n",
       "\n",
       "             \n",
       "          5  \n",
       "0  0.868257  \n",
       "1  0.867229  \n",
       "2  0.868574  \n",
       "3  0.868902  \n",
       "4  0.868052  "
      ]
     },
     "execution_count": 11,
     "metadata": {},
     "output_type": "execute_result"
    }
   ],
   "source": [
    "results = pd.DataFrame(accs)\n",
    "results"
   ]
  },
  {
   "cell_type": "code",
   "execution_count": 12,
   "id": "4dcd18f7",
   "metadata": {},
   "outputs": [
    {
     "data": {
      "text/plain": [
       "<matplotlib.legend.Legend at 0x7f9a33cc7550>"
      ]
     },
     "execution_count": 12,
     "metadata": {},
     "output_type": "execute_result"
    },
    {
     "data": {
      "image/png": "[encoded data removed]",
      "text/plain": [
       "<Figure size 576x396 with 1 Axes>"
      ]
     },
     "metadata": {},
     "output_type": "display_data"
    }
   ],
   "source": [
    "plt.style.use('seaborn')\n",
    "results.boxplot()\n",
    "plt.title('NN performances based on hidden layers')\n",
    "plt.xlabel('hidden layer configuration')\n",
    "plt.ylabel('balanced accuracy')\n",
    "plt.axhline(0.88, color='r', linestyle='--', label='RF balanced accuracy')\n",
    "plt.ylim([0.8, 0.9])\n",
    "\n",
    "plt.legend()"
   ]
  },
  {
   "cell_type": "code",
   "execution_count": 13,
   "id": "971ddb27",
   "metadata": {},
   "outputs": [
    {
     "data": {
      "text/plain": [
       "3   NaN    0.869185\n",
       "5   NaN    0.869211\n",
       "8   NaN    0.871889\n",
       "10  NaN    0.868801\n",
       "3   2      0.868267\n",
       "    3      0.868904\n",
       "5   3      0.870062\n",
       "    5      0.868902\n",
       "dtype: float64"
      ]
     },
     "execution_count": 13,
     "metadata": {},
     "output_type": "execute_result"
    }
   ],
   "source": [
    "results.max()"
   ]
  },
  {
   "cell_type": "markdown",
   "id": "09330990",
   "metadata": {},
   "source": [
    "## Trying with different alpha"
   ]
  },
  {
   "cell_type": "code",
   "execution_count": 14,
   "id": "3fd93510",
   "metadata": {},
   "outputs": [
    {
     "data": {
      "application/vnd.jupyter.widget-view+json": {
       "model_id": "d4bb6b9ba1b3458f8299227866097874",
       "version_major": 2,
       "version_minor": 0
      },
      "text/plain": [
       "  0%|          | 0/5 [00:00<?, ?it/s]"
      ]
     },
     "metadata": {},
     "output_type": "display_data"
    }
   ],
   "source": [
    "mlp_layers_list = [(3, ), (8, ), (3, 2), (3, 3), (5, 5)]\n",
    "n_reps = 5\n",
    "\n",
    "accs2 = {}\n",
    "for mlp_layers in tqdm(mlp_layers_list):\n",
    "    accs2[mlp_layers] = []\n",
    "    \n",
    "    for n in range(n_reps):\n",
    "        model = MLPClassifier(mlp_layers, alpha=0.000001)\n",
    "\n",
    "        model.fit(X_train, y_train)\n",
    "\n",
    "        y_pred = model.predict(X_test)\n",
    "\n",
    "        confusion_matrix(y_true=y_test, y_pred=y_pred)\n",
    "\n",
    "        accs2[mlp_layers].append(balanced_accuracy_score(y_true=y_test, y_pred=y_pred))"
   ]
  },
  {
   "cell_type": "code",
   "execution_count": 15,
   "id": "dd28d64b",
   "metadata": {},
   "outputs": [
    {
     "data": {
      "text/plain": [
       "3  NaN    0.868441\n",
       "8  NaN    0.868979\n",
       "3  2      0.868591\n",
       "   3      0.868772\n",
       "5  5      0.868643\n",
       "dtype: float64"
      ]
     },
     "execution_count": 15,
     "metadata": {},
     "output_type": "execute_result"
    }
   ],
   "source": [
    "pd.DataFrame(accs2).max()"
   ]
  },
  {
   "cell_type": "markdown",
   "id": "e9a8710d",
   "metadata": {},
   "source": [
    "## Trying with different activation"
   ]
  },
  {
   "cell_type": "code",
   "execution_count": 16,
   "id": "dce80f24",
   "metadata": {},
   "outputs": [
    {
     "data": {
      "application/vnd.jupyter.widget-view+json": {
       "model_id": "488c55824de146cbb0b4c0ac9869ecfa",
       "version_major": 2,
       "version_minor": 0
      },
      "text/plain": [
       "  0%|          | 0/5 [00:00<?, ?it/s]"
      ]
     },
     "metadata": {},
     "output_type": "display_data"
    }
   ],
   "source": [
    "mlp_layers_list = [(3, ), (8, ), (3, 2), (3, 3), (5, 5)]\n",
    "n_reps = 5\n",
    "\n",
    "accs3 = {}\n",
    "for mlp_layers in tqdm(mlp_layers_list):\n",
    "    accs3[mlp_layers] = []\n",
    "    \n",
    "    for n in range(n_reps):\n",
    "        model = MLPClassifier(mlp_layers, alpha=0.000001, activation='tanh')\n",
    "\n",
    "        model.fit(X_train, y_train)\n",
    "\n",
    "        y_pred = model.predict(X_test)\n",
    "\n",
    "        confusion_matrix(y_true=y_test, y_pred=y_pred)\n",
    "\n",
    "        accs3[mlp_layers].append(balanced_accuracy_score(y_true=y_test, y_pred=y_pred))"
   ]
  },
  {
   "cell_type": "code",
   "execution_count": 17,
   "id": "cd2bb321",
   "metadata": {},
   "outputs": [
    {
     "data": {
      "text/plain": [
       "3  NaN    0.868361\n",
       "8  NaN    0.869337\n",
       "3  2      0.868437\n",
       "   3      0.869443\n",
       "5  5      0.868898\n",
       "dtype: float64"
      ]
     },
     "execution_count": 17,
     "metadata": {},
     "output_type": "execute_result"
    }
   ],
   "source": [
    "pd.DataFrame(accs3).max()"
   ]
  },
  {
   "cell_type": "markdown",
   "id": "a6efd306",
   "metadata": {},
   "source": [
    "### Using tanh but with input values between -1 and 1"
   ]
  },
  {
   "cell_type": "code",
   "execution_count": 18,
   "id": "d933d8ce",
   "metadata": {},
   "outputs": [
    {
     "data": {
      "application/vnd.jupyter.widget-view+json": {
       "model_id": "b4e15bb4ffc64a12943204d385925a9a",
       "version_major": 2,
       "version_minor": 0
      },
      "text/plain": [
       "  0%|          | 0/5 [00:00<?, ?it/s]"
      ]
     },
     "metadata": {},
     "output_type": "display_data"
    }
   ],
   "source": [
    "mlp_layers_list = [(3, ), (8, ), (3, 2), (3, 3), (5, 5)]\n",
    "n_reps = 5\n",
    "\n",
    "accs4 = {}\n",
    "for mlp_layers in tqdm(mlp_layers_list):\n",
    "    accs4[mlp_layers] = []\n",
    "    \n",
    "    for n in range(n_reps):\n",
    "        model = MLPClassifier(mlp_layers, alpha=0.000001, activation='tanh')\n",
    "\n",
    "        model.fit((X_train - 0.5) * 2, y_train)\n",
    "\n",
    "        y_pred = model.predict((X_test - 0.5) * 2)\n",
    "\n",
    "        confusion_matrix(y_true=y_test, y_pred=y_pred)\n",
    "\n",
    "        accs4[mlp_layers].append(balanced_accuracy_score(y_true=y_test, y_pred=y_pred))"
   ]
  },
  {
   "cell_type": "code",
   "execution_count": 19,
   "id": "a74d9348",
   "metadata": {},
   "outputs": [
    {
     "data": {
      "text/plain": [
       "3  NaN    0.868721\n",
       "8  NaN    0.869673\n",
       "3  2      0.868977\n",
       "   3      0.868361\n",
       "5  5      0.869567\n",
       "dtype: float64"
      ]
     },
     "execution_count": 19,
     "metadata": {},
     "output_type": "execute_result"
    }
   ],
   "source": [
    "pd.DataFrame(accs4).max()"
   ]
  },
  {
   "cell_type": "code",
   "execution_count": 20,
   "id": "2ddfe677",
   "metadata": {},
   "outputs": [
    {
     "data": {
      "text/html": [
       "<div>\n",
       "<style scoped>\n",
       "    .dataframe tbody tr th:only-of-type {\n",
       "        vertical-align: middle;\n",
       "    }\n",
       "\n",
       "    .dataframe tbody tr th {\n",
       "        vertical-align: top;\n",
       "    }\n",
       "\n",
       "    .dataframe thead tr th {\n",
       "        text-align: left;\n",
       "    }\n",
       "</style>\n",
       "<table border=\"1\" class=\"dataframe\">\n",
       "  <thead>\n",
       "    <tr>\n",
       "      <th></th>\n",
       "      <th>3</th>\n",
       "      <th>8</th>\n",
       "      <th colspan=\"2\" halign=\"left\">3</th>\n",
       "      <th>5</th>\n",
       "    </tr>\n",
       "    <tr>\n",
       "      <th></th>\n",
       "      <th>NaN</th>\n",
       "      <th>NaN</th>\n",
       "      <th>2</th>\n",
       "      <th>3</th>\n",
       "      <th>5</th>\n",
       "    </tr>\n",
       "  </thead>\n",
       "  <tbody>\n",
       "    <tr>\n",
       "      <th>0</th>\n",
       "      <td>0.866455</td>\n",
       "      <td>0.868668</td>\n",
       "      <td>0.866559</td>\n",
       "      <td>0.867380</td>\n",
       "      <td>0.869567</td>\n",
       "    </tr>\n",
       "    <tr>\n",
       "      <th>1</th>\n",
       "      <td>0.868002</td>\n",
       "      <td>0.867689</td>\n",
       "      <td>0.868926</td>\n",
       "      <td>0.867331</td>\n",
       "      <td>0.868720</td>\n",
       "    </tr>\n",
       "    <tr>\n",
       "      <th>2</th>\n",
       "      <td>0.868721</td>\n",
       "      <td>0.868874</td>\n",
       "      <td>0.867716</td>\n",
       "      <td>0.868361</td>\n",
       "      <td>0.867870</td>\n",
       "    </tr>\n",
       "    <tr>\n",
       "      <th>3</th>\n",
       "      <td>0.866866</td>\n",
       "      <td>0.868410</td>\n",
       "      <td>0.866404</td>\n",
       "      <td>0.867973</td>\n",
       "      <td>0.866942</td>\n",
       "    </tr>\n",
       "    <tr>\n",
       "      <th>4</th>\n",
       "      <td>0.866609</td>\n",
       "      <td>0.869673</td>\n",
       "      <td>0.868977</td>\n",
       "      <td>0.867433</td>\n",
       "      <td>0.868617</td>\n",
       "    </tr>\n",
       "  </tbody>\n",
       "</table>\n",
       "</div>"
      ],
      "text/plain": [
       "          3         8         3                   5\n",
       "        NaN       NaN         2         3         5\n",
       "0  0.866455  0.868668  0.866559  0.867380  0.869567\n",
       "1  0.868002  0.867689  0.868926  0.867331  0.868720\n",
       "2  0.868721  0.868874  0.867716  0.868361  0.867870\n",
       "3  0.866866  0.868410  0.866404  0.867973  0.866942\n",
       "4  0.866609  0.869673  0.868977  0.867433  0.868617"
      ]
     },
     "execution_count": 20,
     "metadata": {},
     "output_type": "execute_result"
    }
   ],
   "source": [
    "pd.DataFrame(accs4)"
   ]
  },
  {
   "cell_type": "code",
   "execution_count": 21,
   "id": "9b61ab9d",
   "metadata": {},
   "outputs": [
    {
     "data": {
      "text/plain": [
       "0.8757968484772802"
      ]
     },
     "execution_count": 21,
     "metadata": {},
     "output_type": "execute_result"
    }
   ],
   "source": [
    "# To check overfitting\n",
    "y_pred_train = model.predict((X_train - .5) * 2)\n",
    "balanced_accuracy_score(y_true=y_train, y_pred=y_pred_train)"
   ]
  },
  {
   "cell_type": "markdown",
   "id": "a6d44a35",
   "metadata": {},
   "source": [
    "## MLP models do not outperform RandomForest, now we try Linear models"
   ]
  },
  {
   "cell_type": "code",
   "execution_count": 22,
   "id": "00a7f220",
   "metadata": {},
   "outputs": [],
   "source": [
    "from sklearn.linear_model import RidgeClassifier"
   ]
  },
  {
   "cell_type": "markdown",
   "id": "ca535c36",
   "metadata": {},
   "source": [
    "### Ridge"
   ]
  },
  {
   "cell_type": "code",
   "execution_count": 23,
   "id": "2998d004",
   "metadata": {},
   "outputs": [],
   "source": [
    "alphas = [0.0000001, 0.000001, 0.00001, 0.0001, 0.001, 0.01, 0.1, 1]\n",
    "ridge_accs = []\n",
    "for alpha in alphas:\n",
    "    model = RidgeClassifier(alpha=alpha)\n",
    "    model.fit(X_train, y_train)\n",
    "\n",
    "    y_pred = model.predict(X_test)\n",
    "\n",
    "    confusion_matrix(y_true=y_test, y_pred=y_pred)\n",
    "\n",
    "    ridge_accs.append(balanced_accuracy_score(y_true=y_test, y_pred=y_pred))"
   ]
  },
  {
   "cell_type": "code",
   "execution_count": 24,
   "id": "e9e3f943",
   "metadata": {},
   "outputs": [
    {
     "data": {
      "text/plain": [
       "{'whiskers': [<matplotlib.lines.Line2D at 0x7f9a328b0f60>,\n",
       "  <matplotlib.lines.Line2D at 0x7f9a32899278>],\n",
       " 'caps': [<matplotlib.lines.Line2D at 0x7f9a32899550>,\n",
       "  <matplotlib.lines.Line2D at 0x7f9a32899828>],\n",
       " 'boxes': [<matplotlib.lines.Line2D at 0x7f9a328b0d30>],\n",
       " 'medians': [<matplotlib.lines.Line2D at 0x7f9a32899b00>],\n",
       " 'fliers': [<matplotlib.lines.Line2D at 0x7f9a32899dd8>],\n",
       " 'means': []}"
      ]
     },
     "execution_count": 24,
     "metadata": {},
     "output_type": "execute_result"
    },
    {
     "data": {
      "image/png": "[encoded data removed]",
      "text/plain": [
       "<Figure size 576x396 with 1 Axes>"
      ]
     },
     "metadata": {},
     "output_type": "display_data"
    }
   ],
   "source": [
    "plt.boxplot(ridge_accs)"
   ]
  },
  {
   "cell_type": "markdown",
   "id": "6eba14d9",
   "metadata": {},
   "source": [
    "## No linear model seems to improve the RF, so we stick to RF"
   ]
  },
  {
   "cell_type": "code",
   "execution_count": null,
   "id": "60c8ee0c",
   "metadata": {},
   "outputs": [],
   "source": []
  }
 ],
 "metadata": {
  "kernelspec": {
   "display_name": "Python 3",
   "language": "python",
   "name": "python3"
  },
  "language_info": {
   "codemirror_mode": {
    "name": "ipython",
    "version": 3
   },
   "file_extension": ".py",
   "mimetype": "text/x-python",
   "name": "python",
   "nbconvert_exporter": "python",
   "pygments_lexer": "ipython3",
   "version": "3.6.9"
  }
 },
 "nbformat": 4,
 "nbformat_minor": 5
}
