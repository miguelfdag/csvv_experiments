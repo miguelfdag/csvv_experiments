{
 "cells": [
  {
   "cell_type": "code",
   "execution_count": 1,
   "id": "3d9d7081",
   "metadata": {},
   "outputs": [],
   "source": [
    "import matplotlib.pyplot as plt\n",
    "import numpy as np\n",
    "import pandas as pd\n",
    "import seaborn as sns\n",
    "\n",
    "from tqdm.notebook import tqdm"
   ]
  },
  {
   "cell_type": "code",
   "execution_count": 2,
   "id": "af36d077",
   "metadata": {},
   "outputs": [],
   "source": [
    "df = pd.read_parquet('data/df_v2.pqt')"
   ]
  },
  {
   "cell_type": "code",
   "execution_count": 3,
   "id": "e927ef35",
   "metadata": {},
   "outputs": [
    {
     "data": {
      "text/plain": [
       "(HIGH    46146\n",
       " NONE    17015\n",
       " LOW     15103\n",
       " Name: V3_confidentialityImpact, dtype: int64,\n",
       " HIGH    40105\n",
       " NONE    24400\n",
       " LOW     13759\n",
       " Name: V3_integrityImpact, dtype: int64,\n",
       " HIGH    45795\n",
       " NONE    30415\n",
       " LOW      2054\n",
       " Name: V3_availabilityImpact, dtype: int64)"
      ]
     },
     "execution_count": 3,
     "metadata": {},
     "output_type": "execute_result"
    }
   ],
   "source": [
    "df['V3_confidentialityImpact'].value_counts(), df['V3_integrityImpact'].value_counts(), df['V3_availabilityImpact'].value_counts()"
   ]
  },
  {
   "cell_type": "code",
   "execution_count": 4,
   "id": "01279756",
   "metadata": {},
   "outputs": [],
   "source": [
    "outcomes = ['V3_confidentialityImpact', 'V3_integrityImpact', 'V3_availabilityImpact']"
   ]
  },
  {
   "cell_type": "markdown",
   "id": "912d5839",
   "metadata": {},
   "source": [
    "### The outcomes have three possible values"
   ]
  },
  {
   "cell_type": "code",
   "execution_count": 5,
   "id": "390951f3",
   "metadata": {},
   "outputs": [
    {
     "data": {
      "text/plain": [
       "Index(['cve_id', 'V2_severity', 'V2_userInteractionRequired', 'V2_version',\n",
       "       'V2_vectorString', 'V2_accessVector', 'V2_accessComplexity',\n",
       "       'V2_authentication', 'V2_confidentialityImpact', 'V2_integrityImpact',\n",
       "       'V2_availabilityImpact', 'V2_acInsufInfo', 'V3_version',\n",
       "       'V3_vectorString', 'V3_attackVector', 'V3_attackComplexity',\n",
       "       'V3_privilegesRequired', 'V3_userInteraction', 'V3_scope',\n",
       "       'V3_confidentialityImpact', 'V3_integrityImpact',\n",
       "       'V3_availabilityImpact', 'V3_baseSeverity'],\n",
       "      dtype='object')"
      ]
     },
     "execution_count": 5,
     "metadata": {},
     "output_type": "execute_result"
    }
   ],
   "source": [
    "df.select_dtypes(['object']).columns"
   ]
  },
  {
   "cell_type": "markdown",
   "id": "8dcb4d52",
   "metadata": {},
   "source": [
    "### This means that in order to predict, we cannot use the V3 columns, since they will not be defined for the predictions"
   ]
  },
  {
   "cell_type": "code",
   "execution_count": 6,
   "id": "e0b161cf",
   "metadata": {},
   "outputs": [],
   "source": [
    "# only get V2 columns, plus id and target\n",
    "# also remove V2_vectorString, since it is an aggregate of other values and has a high cardinality\n",
    "valid_cols = ['cve_id'] + outcomes + [col for col in df.columns if col.startswith('V2_') and col != 'V2_vectorString']\n",
    "rows_to_drop = df['V3_scope'].isna()\n",
    "df = df[valid_cols]"
   ]
  },
  {
   "cell_type": "code",
   "execution_count": 7,
   "id": "f8dabd66",
   "metadata": {},
   "outputs": [],
   "source": [
    "string_columns = ['V2_severity', 'V2_userInteractionRequired', 'V2_version',\n",
    "       'V2_accessVector', 'V2_accessComplexity', # 'V2_vectorString', \n",
    "       'V2_authentication', 'V2_confidentialityImpact', 'V2_integrityImpact',\n",
    "       'V2_availabilityImpact', 'V2_acInsufInfo'] + outcomes\n",
    "\n",
    "\n",
    "# We convert strings to categorical and then numeric in case we want to use numerical methods\n",
    "cats = df.loc[:, string_columns].astype('category')\n",
    "df.loc[:, string_columns] = cats.apply(lambda col: col.cat.codes)"
   ]
  },
  {
   "cell_type": "code",
   "execution_count": 8,
   "id": "07aa4743",
   "metadata": {},
   "outputs": [
    {
     "name": "stdout",
     "output_type": "stream",
     "text": [
      "(151637, 20)\n",
      "(78264, 20)\n"
     ]
    }
   ],
   "source": [
    "# We only process those that are valid for training\n",
    "print(df.shape)\n",
    "df_to_predict = df[rows_to_drop]\n",
    "df = df[~rows_to_drop]\n",
    "print(df.shape)"
   ]
  },
  {
   "cell_type": "code",
   "execution_count": 9,
   "id": "65279768",
   "metadata": {},
   "outputs": [
    {
     "data": {
      "text/plain": [
       "cve_id                         object\n",
       "V3_confidentialityImpact         int8\n",
       "V3_integrityImpact               int8\n",
       "V3_availabilityImpact            int8\n",
       "V2_severity                      int8\n",
       "V2_exploitabilityScore        float64\n",
       "V2_impactScore                float64\n",
       "V2_obtainAllPrivilege            bool\n",
       "V2_obtainUserPrivilege           bool\n",
       "V2_obtainOtherPrivilege          bool\n",
       "V2_userInteractionRequired       int8\n",
       "V2_version                       int8\n",
       "V2_accessVector                  int8\n",
       "V2_accessComplexity              int8\n",
       "V2_authentication                int8\n",
       "V2_confidentialityImpact         int8\n",
       "V2_integrityImpact               int8\n",
       "V2_availabilityImpact            int8\n",
       "V2_baseScore                  float64\n",
       "V2_acInsufInfo                   int8\n",
       "dtype: object"
      ]
     },
     "execution_count": 9,
     "metadata": {},
     "output_type": "execute_result"
    }
   ],
   "source": [
    "df.dtypes"
   ]
  },
  {
   "cell_type": "code",
   "execution_count": 10,
   "id": "7fe2e672",
   "metadata": {},
   "outputs": [],
   "source": [
    "from sklearn.ensemble import RandomForestClassifier\n",
    "from sklearn.model_selection import train_test_split\n",
    "from sklearn.metrics import confusion_matrix, balanced_accuracy_score"
   ]
  },
  {
   "cell_type": "code",
   "execution_count": 11,
   "id": "3744a1e1",
   "metadata": {},
   "outputs": [
    {
     "name": "stdout",
     "output_type": "stream",
     "text": [
      "V3_confidentialityImpact 0.8532424868953625\n",
      "[[13612   245    24]\n",
      " [ 1453  2891    68]\n",
      " [    6   389  4792]]\n",
      "V3_integrityImpact 0.9082588648701723\n",
      "[[11330   375   377]\n",
      " [  849  3186     9]\n",
      " [    5     1  7348]]\n",
      "V3_availabilityImpact 0.6684274884201025\n",
      "[[13177    57   503]\n",
      " [  517    33    51]\n",
      " [   74     7  9061]]\n"
     ]
    }
   ],
   "source": [
    "X = df.drop(columns=['cve_id'] + outcomes)\n",
    "\n",
    "for outcome in outcomes:\n",
    "    y = df[outcome]\n",
    "\n",
    "    X_train, X_test, y_train, y_test = train_test_split(X, y, test_size=0.3, random_state=42)\n",
    "\n",
    "    X_train.shape\n",
    "\n",
    "    rf = RandomForestClassifier(n_estimators=200, n_jobs=-1)\n",
    "\n",
    "    rf.fit(X_train, y_train)\n",
    "\n",
    "    y_pred = rf.predict(X_test)\n",
    "\n",
    "    matrix = confusion_matrix(y_true=y_test, y_pred=y_pred)\n",
    "    \n",
    "    print(outcome, balanced_accuracy_score(y_true=y_test, y_pred=y_pred))    \n",
    "    print(matrix)"
   ]
  },
  {
   "cell_type": "markdown",
   "id": "3858b98a",
   "metadata": {},
   "source": [
    "## Both confidentiality and integrity perform decently, but availability is not able to distinguish properly\n",
    "#### Balancing the classes should help in this regard"
   ]
  },
  {
   "cell_type": "code",
   "execution_count": 12,
   "id": "d4f5b5e1",
   "metadata": {},
   "outputs": [
    {
     "name": "stdout",
     "output_type": "stream",
     "text": [
      "V3_confidentialityImpact 0.872871830444887\n",
      "[[11699  2157    25]\n",
      " [  586  3758    68]\n",
      " [    3   391  4793]]\n",
      "V3_integrityImpact 0.921614164405674\n",
      "[[10455  1250   377]\n",
      " [  393  3642     9]\n",
      " [    2     6  7346]]\n",
      "V3_availabilityImpact 0.8146892284619476\n",
      "[[8976 4344  417]\n",
      " [ 101  488   12]\n",
      " [  34  161 8947]]\n"
     ]
    }
   ],
   "source": [
    "X = df.drop(columns=['cve_id'] + outcomes)\n",
    "\n",
    "for outcome in outcomes:\n",
    "    y = df[outcome]\n",
    "\n",
    "    X_train, X_test, y_train, y_test = train_test_split(X, y, test_size=0.3, random_state=42)\n",
    "\n",
    "    X_train.shape\n",
    "\n",
    "    rf = RandomForestClassifier(n_estimators=200, n_jobs=-1, class_weight='balanced')\n",
    "\n",
    "    rf.fit(X_train, y_train)\n",
    "\n",
    "    y_pred = rf.predict(X_test)\n",
    "\n",
    "    matrix = confusion_matrix(y_true=y_test, y_pred=y_pred)\n",
    "    \n",
    "    print(outcome, balanced_accuracy_score(y_true=y_test, y_pred=y_pred))    \n",
    "    print(matrix)"
   ]
  },
  {
   "cell_type": "code",
   "execution_count": 13,
   "id": "7fb47ccf",
   "metadata": {},
   "outputs": [
    {
     "data": {
      "text/plain": [
       "0.820516095772581"
      ]
     },
     "execution_count": 13,
     "metadata": {},
     "output_type": "execute_result"
    }
   ],
   "source": [
    "# To check overfitting\n",
    "y_pred_train = rf.predict(X_train)\n",
    "balanced_accuracy_score(y_true=y_train, y_pred=y_pred_train)"
   ]
  },
  {
   "cell_type": "markdown",
   "id": "b2ad37c1",
   "metadata": {},
   "source": [
    "## We repeat the experiment to be certain that the sampling did not play a part"
   ]
  },
  {
   "cell_type": "code",
   "execution_count": 14,
   "id": "55bc0744",
   "metadata": {},
   "outputs": [
    {
     "data": {
      "application/vnd.jupyter.widget-view+json": {
       "model_id": "ecf2583b964e469087577bae75d00c86",
       "version_major": 2,
       "version_minor": 0
      },
      "text/plain": [
       "  0%|          | 0/30 [00:00<?, ?it/s]"
      ]
     },
     "metadata": {},
     "output_type": "display_data"
    },
    {
     "data": {
      "application/vnd.jupyter.widget-view+json": {
       "model_id": "1c6b5d67154c424f990eb3b43004d1fb",
       "version_major": 2,
       "version_minor": 0
      },
      "text/plain": [
       "  0%|          | 0/30 [00:00<?, ?it/s]"
      ]
     },
     "metadata": {},
     "output_type": "display_data"
    },
    {
     "data": {
      "application/vnd.jupyter.widget-view+json": {
       "model_id": "56dec517748d4b4f931f2518fe1c567d",
       "version_major": 2,
       "version_minor": 0
      },
      "text/plain": [
       "  0%|          | 0/30 [00:00<?, ?it/s]"
      ]
     },
     "metadata": {},
     "output_type": "display_data"
    }
   ],
   "source": [
    "n_reps = 30\n",
    "\n",
    "balanced_accuracies = {}\n",
    "X = df.drop(columns=['cve_id'] + outcomes)\n",
    "\n",
    "rfs = {}\n",
    "\n",
    "for outcome in outcomes:\n",
    "\n",
    "    balanced_accuracies[outcome] = []\n",
    "    y = df[outcome]\n",
    "    \n",
    "    for rep in tqdm(range(n_reps)):\n",
    "    \n",
    "\n",
    "        X_train, X_test, y_train, y_test = train_test_split(X, y, test_size=0.3, random_state=42)\n",
    "\n",
    "        rf = RandomForestClassifier(n_estimators=200, n_jobs=-1, class_weight='balanced')\n",
    "\n",
    "        rf.fit(X_train, y_train)\n",
    "\n",
    "        y_pred = rf.predict(X_test)\n",
    "\n",
    "        matrix = confusion_matrix(y_true=y_test, y_pred=y_pred)\n",
    "\n",
    "        balanced_accuracies[outcome].append(balanced_accuracy_score(y_true=y_test, y_pred=y_pred))\n",
    "        \n",
    "    rfs[outcome] = rf"
   ]
  },
  {
   "cell_type": "code",
   "execution_count": 21,
   "id": "6583418a",
   "metadata": {},
   "outputs": [
    {
     "data": {
      "text/plain": [
       "Text(0.5, 0, 'Outcome')"
      ]
     },
     "execution_count": 21,
     "metadata": {},
     "output_type": "execute_result"
    },
    {
     "data": {
      "image/png": "[encoded data removed]",
      "text/plain": [
       "<Figure size 576x396 with 1 Axes>"
      ]
     },
     "metadata": {},
     "output_type": "display_data"
    }
   ],
   "source": [
    "plt.style.use('seaborn')\n",
    "df_accs = pd.DataFrame(balanced_accuracies)\n",
    "df_accs.boxplot()\n",
    "plt.title('Performance of metric prediction when repeating training', fontsize=16)\n",
    "plt.ylabel('Balanced Accuracy', fontsize=14)\n",
    "plt.xlabel('Outcome', fontsize=14)\n",
    "# plt.hist(balanced_accuracies)"
   ]
  },
  {
   "cell_type": "markdown",
   "id": "0043137a",
   "metadata": {},
   "source": [
    "We obtain decent balanced accuracies, with little overfitting, so the average expected recall per class should be over 80% for each of the three outcomes.\n",
    "\n",
    "As linear models did not outperform the random forest for the scope outcome, it was not tried for these outcomes"
   ]
  },
  {
   "cell_type": "code",
   "execution_count": 16,
   "id": "93b10eaa",
   "metadata": {},
   "outputs": [],
   "source": [
    "X_to_predict = df_to_predict.drop(columns=['cve_id'] + outcomes)\n",
    "results = df_to_predict[['cve_id']].copy()\n",
    "\n",
    "for outcome in outcomes:\n",
    "    # The predictions for the missing data are:\n",
    "    y_expected = rfs[outcome].predict(X_to_predict)\n",
    "    \n",
    "    results[outcome] = cats[outcome].cat.categories[y_expected]"
   ]
  },
  {
   "cell_type": "code",
   "execution_count": 18,
   "id": "ef5eec72",
   "metadata": {},
   "outputs": [
    {
     "data": {
      "text/html": [
       "<div>\n",
       "<style scoped>\n",
       "    .dataframe tbody tr th:only-of-type {\n",
       "        vertical-align: middle;\n",
       "    }\n",
       "\n",
       "    .dataframe tbody tr th {\n",
       "        vertical-align: top;\n",
       "    }\n",
       "\n",
       "    .dataframe thead th {\n",
       "        text-align: right;\n",
       "    }\n",
       "</style>\n",
       "<table border=\"1\" class=\"dataframe\">\n",
       "  <thead>\n",
       "    <tr style=\"text-align: right;\">\n",
       "      <th></th>\n",
       "      <th>cve_id</th>\n",
       "      <th>V3_confidentialityImpact</th>\n",
       "      <th>V3_integrityImpact</th>\n",
       "      <th>V3_availabilityImpact</th>\n",
       "    </tr>\n",
       "  </thead>\n",
       "  <tbody>\n",
       "    <tr>\n",
       "      <th>0</th>\n",
       "      <td>CVE-2011-0001</td>\n",
       "      <td>NONE</td>\n",
       "      <td>NONE</td>\n",
       "      <td>LOW</td>\n",
       "    </tr>\n",
       "    <tr>\n",
       "      <th>1</th>\n",
       "      <td>CVE-2011-0002</td>\n",
       "      <td>LOW</td>\n",
       "      <td>LOW</td>\n",
       "      <td>NONE</td>\n",
       "    </tr>\n",
       "    <tr>\n",
       "      <th>2</th>\n",
       "      <td>CVE-2011-0003</td>\n",
       "      <td>LOW</td>\n",
       "      <td>LOW</td>\n",
       "      <td>NONE</td>\n",
       "    </tr>\n",
       "    <tr>\n",
       "      <th>3</th>\n",
       "      <td>CVE-2011-0004</td>\n",
       "      <td>LOW</td>\n",
       "      <td>LOW</td>\n",
       "      <td>NONE</td>\n",
       "    </tr>\n",
       "    <tr>\n",
       "      <th>4</th>\n",
       "      <td>CVE-2011-0005</td>\n",
       "      <td>LOW</td>\n",
       "      <td>LOW</td>\n",
       "      <td>NONE</td>\n",
       "    </tr>\n",
       "    <tr>\n",
       "      <th>...</th>\n",
       "      <td>...</td>\n",
       "      <td>...</td>\n",
       "      <td>...</td>\n",
       "      <td>...</td>\n",
       "    </tr>\n",
       "    <tr>\n",
       "      <th>151617</th>\n",
       "      <td>CVE-2009-5138</td>\n",
       "      <td>LOW</td>\n",
       "      <td>HIGH</td>\n",
       "      <td>NONE</td>\n",
       "    </tr>\n",
       "    <tr>\n",
       "      <th>151620</th>\n",
       "      <td>CVE-2009-5141</td>\n",
       "      <td>NONE</td>\n",
       "      <td>NONE</td>\n",
       "      <td>LOW</td>\n",
       "    </tr>\n",
       "    <tr>\n",
       "      <th>151621</th>\n",
       "      <td>CVE-2009-5142</td>\n",
       "      <td>LOW</td>\n",
       "      <td>LOW</td>\n",
       "      <td>NONE</td>\n",
       "    </tr>\n",
       "    <tr>\n",
       "      <th>151622</th>\n",
       "      <td>CVE-2009-5143</td>\n",
       "      <td>HIGH</td>\n",
       "      <td>HIGH</td>\n",
       "      <td>HIGH</td>\n",
       "    </tr>\n",
       "    <tr>\n",
       "      <th>151626</th>\n",
       "      <td>CVE-2009-5149</td>\n",
       "      <td>HIGH</td>\n",
       "      <td>NONE</td>\n",
       "      <td>NONE</td>\n",
       "    </tr>\n",
       "  </tbody>\n",
       "</table>\n",
       "<p>73373 rows × 4 columns</p>\n",
       "</div>"
      ],
      "text/plain": [
       "               cve_id V3_confidentialityImpact V3_integrityImpact  \\\n",
       "0       CVE-2011-0001                     NONE               NONE   \n",
       "1       CVE-2011-0002                      LOW                LOW   \n",
       "2       CVE-2011-0003                      LOW                LOW   \n",
       "3       CVE-2011-0004                      LOW                LOW   \n",
       "4       CVE-2011-0005                      LOW                LOW   \n",
       "...               ...                      ...                ...   \n",
       "151617  CVE-2009-5138                      LOW               HIGH   \n",
       "151620  CVE-2009-5141                     NONE               NONE   \n",
       "151621  CVE-2009-5142                      LOW                LOW   \n",
       "151622  CVE-2009-5143                     HIGH               HIGH   \n",
       "151626  CVE-2009-5149                     HIGH               NONE   \n",
       "\n",
       "       V3_availabilityImpact  \n",
       "0                        LOW  \n",
       "1                       NONE  \n",
       "2                       NONE  \n",
       "3                       NONE  \n",
       "4                       NONE  \n",
       "...                      ...  \n",
       "151617                  NONE  \n",
       "151620                   LOW  \n",
       "151621                  NONE  \n",
       "151622                  HIGH  \n",
       "151626                  NONE  \n",
       "\n",
       "[73373 rows x 4 columns]"
      ]
     },
     "execution_count": 18,
     "metadata": {},
     "output_type": "execute_result"
    }
   ],
   "source": [
    "results"
   ]
  },
  {
   "cell_type": "code",
   "execution_count": 17,
   "id": "8862b440",
   "metadata": {},
   "outputs": [],
   "source": [
    "\n",
    "\n",
    "# We upload it as a csv to be able to display the results easily with other applications\n",
    "results.to_csv('results/cia_results_rf.csv', index=False)"
   ]
  },
  {
   "cell_type": "code",
   "execution_count": null,
   "id": "a4adcc61",
   "metadata": {},
   "outputs": [],
   "source": []
  }
 ],
 "metadata": {
  "kernelspec": {
   "display_name": "Python 3",
   "language": "python",
   "name": "python3"
  },
  "language_info": {
   "codemirror_mode": {
    "name": "ipython",
    "version": 3
   },
   "file_extension": ".py",
   "mimetype": "text/x-python",
   "name": "python",
   "nbconvert_exporter": "python",
   "pygments_lexer": "ipython3",
   "version": "3.6.9"
  }
 },
 "nbformat": 4,
 "nbformat_minor": 5
}
